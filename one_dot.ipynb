{
 "cells": [
  {
   "cell_type": "markdown",
   "id": "f3b4416e",
   "metadata": {},
   "source": [
    "# Для одной точки и 4 антенн (все в километрах и микросекундах)"
   ]
  },
  {
   "cell_type": "code",
   "execution_count": 31,
   "id": "9ad07385",
   "metadata": {},
   "outputs": [],
   "source": [
    "import numpy as np\n",
    "import numpy.linalg as linalg\n",
    "import matplotlib.pyplot as plt\n",
    "from itertools import combinations"
   ]
  },
  {
   "cell_type": "code",
   "execution_count": 44,
   "id": "7a5ce37f",
   "metadata": {},
   "outputs": [
    {
     "data": {
      "text/plain": [
       "(array([[-1., -1.],\n",
       "        [ 1., -1.],\n",
       "        [ 1.,  1.],\n",
       "        [-1.,  1.]]),\n",
       " array([10, 12, 12, 13]))"
      ]
     },
     "execution_count": 44,
     "metadata": {},
     "output_type": "execute_result"
    }
   ],
   "source": [
    "a1 = np.array([-1., -1.])\n",
    "a2 = np.array([1., -1.])\n",
    "a3 = np.array([1., 1.])\n",
    "a4 = np.array([-1., 1.])\n",
    "a_arr = np.array([a1, a2, a3, a4])\n",
    "\n",
    "t1 = 10\n",
    "t2 = 12\n",
    "t3 = 12\n",
    "t4 = 13\n",
    "t_arr = np.array([t1, t2, t3, t4], dtype=np.int64)\n",
    "a_arr, t_arr"
   ]
  },
  {
   "cell_type": "code",
   "execution_count": 18,
   "id": "9e25deda",
   "metadata": {},
   "outputs": [
    {
     "data": {
      "text/plain": [
       "array([[2, 1],\n",
       "       [3, 2],\n",
       "       [4, 3],\n",
       "       [3, 1],\n",
       "       [4, 1],\n",
       "       [4, 2]], dtype=int8)"
      ]
     },
     "execution_count": 18,
     "metadata": {},
     "output_type": "execute_result"
    }
   ],
   "source": [
    "# CONST\n",
    "V = 0.3\n",
    "\n",
    "diff_pairs = np.array([np.array([2, 1]), np.array([3,2]),\\\n",
    "                       np.array([4, 3]), np.array([3,1]),\\\n",
    "                       np.array([4, 1]), np.array([4, 2])], dtype=np.int8)\n",
    "diff_pairs"
   ]
  },
  {
   "cell_type": "code",
   "execution_count": 116,
   "id": "131e57b8",
   "metadata": {},
   "outputs": [
    {
     "data": {
      "text/plain": [
       "array([-1.98 ,  0.   , -1.125, -1.98 , -3.105, -1.125])"
      ]
     },
     "execution_count": 116,
     "metadata": {},
     "output_type": "execute_result"
    }
   ],
   "source": [
    "g = []\n",
    "for i in diff_pairs:\n",
    "    a_i, a_j, t_i, t_j = a_arr[i[0]-1], a_arr[i[1]-1], t_arr[i[0]-1], t_arr[i[1]-1]\n",
    "    g_ij = ((a_i[0] ** 2 + a_i[1] ** 2 - V ** 2 * t_i ** 2) - (a_j[0] ** 2 + a_j[1] ** 2 - V ** 2 * t_j ** 2))/2\n",
    "    g.append(g_ij)\n",
    "g = np.array(g, dtype=np.float64)\n",
    "g"
   ]
  },
  {
   "cell_type": "code",
   "execution_count": 132,
   "id": "5fc98811",
   "metadata": {},
   "outputs": [
    {
     "data": {
      "text/plain": [
       "(array([[[ 2.,  0.,  2.],\n",
       "         [ 0.,  2.,  0.],\n",
       "         [-2.,  0.,  1.]],\n",
       " \n",
       "        [[ 2.,  0.,  2.],\n",
       "         [ 0.,  2.,  0.],\n",
       "         [ 2.,  2.,  2.]],\n",
       " \n",
       "        [[ 2.,  0.,  2.],\n",
       "         [ 0.,  2.,  0.],\n",
       "         [ 0.,  2.,  3.]],\n",
       " \n",
       "        [[ 2.,  0.,  2.],\n",
       "         [ 0.,  2.,  0.],\n",
       "         [-2.,  2.,  1.]],\n",
       " \n",
       "        [[ 2.,  0.,  2.],\n",
       "         [-2.,  0.,  1.],\n",
       "         [ 2.,  2.,  2.]],\n",
       " \n",
       "        [[ 2.,  0.,  2.],\n",
       "         [-2.,  0.,  1.],\n",
       "         [ 0.,  2.,  3.]],\n",
       " \n",
       "        [[ 2.,  0.,  2.],\n",
       "         [-2.,  0.,  1.],\n",
       "         [-2.,  2.,  1.]],\n",
       " \n",
       "        [[ 2.,  0.,  2.],\n",
       "         [ 2.,  2.,  2.],\n",
       "         [ 0.,  2.,  3.]],\n",
       " \n",
       "        [[ 2.,  0.,  2.],\n",
       "         [ 2.,  2.,  2.],\n",
       "         [-2.,  2.,  1.]],\n",
       " \n",
       "        [[ 2.,  0.,  2.],\n",
       "         [ 0.,  2.,  3.],\n",
       "         [-2.,  2.,  1.]],\n",
       " \n",
       "        [[ 0.,  2.,  0.],\n",
       "         [-2.,  0.,  1.],\n",
       "         [ 2.,  2.,  2.]],\n",
       " \n",
       "        [[ 0.,  2.,  0.],\n",
       "         [-2.,  0.,  1.],\n",
       "         [ 0.,  2.,  3.]],\n",
       " \n",
       "        [[ 0.,  2.,  0.],\n",
       "         [-2.,  0.,  1.],\n",
       "         [-2.,  2.,  1.]],\n",
       " \n",
       "        [[ 0.,  2.,  0.],\n",
       "         [ 2.,  2.,  2.],\n",
       "         [ 0.,  2.,  3.]],\n",
       " \n",
       "        [[ 0.,  2.,  0.],\n",
       "         [ 2.,  2.,  2.],\n",
       "         [-2.,  2.,  1.]],\n",
       " \n",
       "        [[ 0.,  2.,  0.],\n",
       "         [ 0.,  2.,  3.],\n",
       "         [-2.,  2.,  1.]],\n",
       " \n",
       "        [[-2.,  0.,  1.],\n",
       "         [ 2.,  2.,  2.],\n",
       "         [ 0.,  2.,  3.]],\n",
       " \n",
       "        [[-2.,  0.,  1.],\n",
       "         [ 2.,  2.,  2.],\n",
       "         [-2.,  2.,  1.]],\n",
       " \n",
       "        [[-2.,  0.,  1.],\n",
       "         [ 0.,  2.,  3.],\n",
       "         [-2.,  2.,  1.]],\n",
       " \n",
       "        [[ 2.,  2.,  2.],\n",
       "         [ 0.,  2.,  3.],\n",
       "         [-2.,  2.,  1.]]]),\n",
       " [array([0, 1, 2]),\n",
       "  array([0, 1, 3]),\n",
       "  array([0, 1, 4]),\n",
       "  array([0, 1, 5]),\n",
       "  array([0, 2, 3]),\n",
       "  array([0, 2, 4]),\n",
       "  array([0, 2, 5]),\n",
       "  array([0, 3, 4]),\n",
       "  array([0, 3, 5]),\n",
       "  array([0, 4, 5]),\n",
       "  array([1, 2, 3]),\n",
       "  array([1, 2, 4]),\n",
       "  array([1, 2, 5]),\n",
       "  array([1, 3, 4]),\n",
       "  array([1, 3, 5]),\n",
       "  array([1, 4, 5]),\n",
       "  array([2, 3, 4]),\n",
       "  array([2, 3, 5]),\n",
       "  array([2, 4, 5]),\n",
       "  array([3, 4, 5])])"
      ]
     },
     "execution_count": 132,
     "metadata": {},
     "output_type": "execute_result"
    }
   ],
   "source": [
    "all_matrix = []\n",
    "all_matrix_g = []\n",
    "for i in combinations(diff_pairs, 3):\n",
    "    diff_index = []\n",
    "    diff_index_list = diff_pairs.tolist()\n",
    "    diff_index.append(diff_index_list.index(i[0].tolist()))\n",
    "    diff_index.append(diff_index_list.index(i[1].tolist()))\n",
    "    diff_index.append(diff_index_list.index(i[2].tolist()))\n",
    "    matrix = np.array([[a_arr[i[0][0]-1][0] - a_arr[i[0][1]-1][0],\n",
    "                        a_arr[i[0][0]-1][1] - a_arr[i[0][1]-1][1],\n",
    "                        t_arr[i[0][0]-1] - t_arr[i[0][1]-1]],\n",
    "                       [a_arr[i[1][0]-1][0] - a_arr[i[1][1]-1][0],\n",
    "                        a_arr[i[1][0]-1][1] - a_arr[i[1][1]-1][1],\n",
    "                        t_arr[i[1][0]-1] - t_arr[i[1][1]-1]],\n",
    "                       [a_arr[i[2][0]-1][0] - a_arr[i[2][1]-1][0],\n",
    "                        a_arr[i[2][0]-1][1] - a_arr[i[2][1]-1][1],\n",
    "                        t_arr[i[2][0]-1] - t_arr[i[2][1]-1]]])\n",
    "    all_matrix.append(matrix)\n",
    "    all_matrix_g.append(np.array(diff_index))\n",
    "all_matrix = np.array(all_matrix)\n",
    "all_matrix, all_matrix_g"
   ]
  },
  {
   "cell_type": "code",
   "execution_count": 161,
   "id": "0c2a7450",
   "metadata": {},
   "outputs": [
    {
     "name": "stdout",
     "output_type": "stream",
     "text": [
      "[np.float64(1.5), np.float64(6.196043664933378e+16), np.float64(3.570522696696074), np.float64(2.715194527703128), np.float64(3.315951423753752), np.float64(3.982638731677844), np.float64(2.962712774714808), np.float64(4.725801483704863), np.float64(4.79921122275232), np.float64(1.8374018290473788e+16), np.float64(2.575130738580153), np.float64(2.765095172153138), np.float64(inf), np.float64(3.2324611573621667), np.float64(3.7421339903040467), np.float64(3.3699240762154807), np.float64(inf), np.float64(3.776668234305813), np.float64(3.9408633725811923), np.float64(5.979401699500051)]\n",
      "1.5 0\n"
     ]
    },
    {
     "data": {
      "text/plain": [
       "(array([[ 2.,  0.,  2.],\n",
       "        [ 0.,  2.,  0.],\n",
       "        [-2.,  0.,  1.]]),\n",
       " array([[0],\n",
       "        [1],\n",
       "        [2]]))"
      ]
     },
     "execution_count": 161,
     "metadata": {},
     "output_type": "execute_result"
    }
   ],
   "source": [
    "all_matrix_cond = []\n",
    "for matrix in all_matrix:\n",
    "    all_matrix_cond.append(linalg.cond(matrix))\n",
    "min_cond = min(all_matrix_cond)\n",
    "\n",
    "print(all_matrix_cond)\n",
    "\n",
    "index = all_matrix_cond.index(min_cond)\n",
    "print(min_cond, index)\n",
    "\n",
    "main_matrix = all_matrix[index]\n",
    "main_g = all_matrix_g[index].reshape(3,1)\n",
    "main_matrix, main_g\n",
    "\n"
   ]
  },
  {
   "cell_type": "code",
   "execution_count": 159,
   "id": "da3e7990",
   "metadata": {},
   "outputs": [
    {
     "data": {
      "text/plain": [
       "(4.0, 3.0)"
      ]
     },
     "execution_count": 159,
     "metadata": {},
     "output_type": "execute_result"
    }
   ],
   "source": [
    "x, y, _ = np.matmul(main_matrix, main_g).reshape(1,3).tolist()[0]\n",
    "x, y"
   ]
  }
 ],
 "metadata": {
  "kernelspec": {
   "display_name": "sys_analyze",
   "language": "python",
   "name": "python3"
  },
  "language_info": {
   "codemirror_mode": {
    "name": "ipython",
    "version": 3
   },
   "file_extension": ".py",
   "mimetype": "text/x-python",
   "name": "python",
   "nbconvert_exporter": "python",
   "pygments_lexer": "ipython3",
   "version": "3.11.11"
  }
 },
 "nbformat": 4,
 "nbformat_minor": 5
}
